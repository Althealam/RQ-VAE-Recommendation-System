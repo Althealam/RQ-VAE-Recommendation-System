{
 "cells": [
  {
   "cell_type": "markdown",
   "id": "2758d57a",
   "metadata": {},
   "source": [
    "# 下面的代码是用来学习残差量化的"
   ]
  },
  {
   "cell_type": "code",
   "execution_count": 11,
   "id": "67ab7bdf",
   "metadata": {},
   "outputs": [],
   "source": [
    "import numpy as np\n",
    "from sklearn.cluster import KMeans"
   ]
  },
  {
   "cell_type": "markdown",
   "id": "ba94455b",
   "metadata": {},
   "source": [
    "## 读取item embedding"
   ]
  },
  {
   "cell_type": "code",
   "execution_count": 7,
   "id": "2afb7ddc",
   "metadata": {},
   "outputs": [
    {
     "name": "stdout",
     "output_type": "stream",
     "text": [
      "加载物品嵌入: 数量=3706, 维度=128\n"
     ]
    }
   ],
   "source": [
    "item_embeddings = np.load('/Users/althealam/Desktop/Code/RQ-VAE-Recommendation-System/data/embeddings/item_embeddings.npy')\n",
    "print(f\"加载物品嵌入: 数量={item_embeddings.shape[0]}, 维度={item_embeddings.shape[1]}\")\n",
    "# 每一行是一个样本，每一列是一个特征"
   ]
  },
  {
   "cell_type": "markdown",
   "id": "e2570cc7",
   "metadata": {},
   "source": [
    "## 设置量化层数和每层的码本大小"
   ]
  },
  {
   "cell_type": "code",
   "execution_count": 8,
   "id": "49417aad",
   "metadata": {},
   "outputs": [],
   "source": [
    "num_layers = 2 # 量化层数\n",
    "codebook_size = 256  # 每层聚类中心数量"
   ]
  },
  {
   "cell_type": "markdown",
   "id": "113fb68a",
   "metadata": {},
   "source": [
    "## 定义码本和码本索引\n",
    "* 码本：存储可以近似原始嵌入的原型向量\n",
    "* 码本索引：每个样本在每一层选择的码本索引"
   ]
  },
  {
   "cell_type": "code",
   "execution_count": null,
   "id": "a8099868",
   "metadata": {},
   "outputs": [],
   "source": [
    "residual = item_embeddings.copy()\n",
    "\n",
    "# 1. 用于存储可以近似原始嵌入的原型向量\n",
    "all_codebooks = [] # codebooks里面的连续向量集合（浮点数矩阵），形状为(num_codebooks, codebook_size, embedding_dim_per_codebook)\n",
    "# num_codebooks：残差量化层数 codebook_size：每个码书里面向量的数量 embedding_dim_per_codebook：每个向量的维度\n",
    "\n",
    "# 2. 每个样本在每一层选择的码本索引（离散向量）\n",
    "# 告诉你在第i层码书里，每个样本选择了哪一个向量\n",
    "# 例如：all_codes[0, 2]=5表示样本0在第三层选中了码书里索引为5的向量\n",
    "all_codes = [] # 整数索引矩阵，形状为(num_samples, num_codebooks)，其中num_samples为样本数量，num_codebooks为残差量化层数"
   ]
  },
  {
   "cell_type": "markdown",
   "id": "8f645577",
   "metadata": {},
   "source": [
    "## 残差量化\n",
    "1. 步骤\n",
    "* 假设我们有一个连续向量x（item embedding）\n",
    "* 用多个码本来近似这个向量：x=c1[x1]+c2[x2]+...+cn[xn]，其中ci表示第i个码本（里面有K个连续向量），zi表示选择的第i个码本索引（离散值），表示用哪一个中心向量\n",
    "2. KMeans\n",
    "* 将连续残差向量映射到离散码字\n",
    "* 降低信息损失：每一层量化只负责一小部分残差，这样总残差的损失最小\n",
    "* 分层编码：多层码字组合，可以表示更高精度的向量"
   ]
  },
  {
   "cell_type": "code",
   "execution_count": null,
   "id": "9caf27f5",
   "metadata": {},
   "outputs": [],
   "source": [
    "for layer in range(num_layers):\n",
    "    # 对当前残差做K—Means聚类\n",
    "    kmeans = KMeans(n_clusters = codebook_size, random_state=42).fit(residual)\n",
    "    codebook = kmeans.cluster_centers_\n",
    "    codes = kmeans.predict(residual) # 当前层码本\n",
    "    all_codebooks.append(codebook) # 每个embedding的索引\n",
    "    all_codes.append(codes)\n",
    "\n",
    "    # 更新残差\n",
    "    residual-=codebook[codes]"
   ]
  },
  {
   "cell_type": "markdown",
   "id": "40c5ada8",
   "metadata": {},
   "source": [
    "## 重建embedding"
   ]
  },
  {
   "cell_type": "code",
   "execution_count": 15,
   "id": "4d409475",
   "metadata": {},
   "outputs": [],
   "source": [
    "reconstructed = np.zeros_like(item_embeddings)\n",
    "for layer in range(num_layers):\n",
    "    reconstructed += all_codebooks[layer][all_codes[layer]]"
   ]
  },
  {
   "cell_type": "markdown",
   "id": "1b25f386",
   "metadata": {},
   "source": [
    "## 打印重建损失"
   ]
  },
  {
   "cell_type": "code",
   "execution_count": 16,
   "id": "2f230cae",
   "metadata": {},
   "outputs": [
    {
     "name": "stdout",
     "output_type": "stream",
     "text": [
      "重建均方误差: 0.009981\n"
     ]
    }
   ],
   "source": [
    "# 打印重建误差\n",
    "mse = np.mean((item_embeddings - reconstructed) ** 2)\n",
    "print(f\"重建均方误差: {mse:.6f}\")"
   ]
  }
 ],
 "metadata": {
  "kernelspec": {
   "display_name": "rqvae",
   "language": "python",
   "name": "python3"
  },
  "language_info": {
   "codemirror_mode": {
    "name": "ipython",
    "version": 3
   },
   "file_extension": ".py",
   "mimetype": "text/x-python",
   "name": "python",
   "nbconvert_exporter": "python",
   "pygments_lexer": "ipython3",
   "version": "3.13.7"
  }
 },
 "nbformat": 4,
 "nbformat_minor": 5
}
